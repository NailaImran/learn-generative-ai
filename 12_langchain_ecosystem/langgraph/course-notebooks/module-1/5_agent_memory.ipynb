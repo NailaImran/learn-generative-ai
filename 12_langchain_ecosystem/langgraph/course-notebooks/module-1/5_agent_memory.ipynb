{
  "cells": [
    {
      "cell_type": "markdown",
      "metadata": {
        "id": "view-in-github",
        "colab_type": "text"
      },
      "source": [
        "<a href=\"https://colab.research.google.com/github/NailaImran/learn-generative-ai/blob/main/12_langchain_ecosystem/langgraph/course-notebooks/module-1/5_agent_memory.ipynb\" target=\"_parent\"><img src=\"https://colab.research.google.com/assets/colab-badge.svg\" alt=\"Open In Colab\"/></a>"
      ]
    },
    {
      "cell_type": "markdown",
      "id": "13cd1c3e",
      "metadata": {
        "id": "13cd1c3e"
      },
      "source": [
        "[![Open in Colab](https://colab.research.google.com/assets/colab-badge.svg)](https://colab.research.google.com/github/langchain-ai/langchain-academy/blob/main/module-1/agent-memory.ipynb) [![Open in LangChain Academy](https://cdn.prod.website-files.com/65b8cd72835ceeacd4449a53/66e9eba12c7b7688aa3dbb5e_LCA-badge-green.svg)](https://academy.langchain.com/courses/take/intro-to-langgraph/lessons/58239417-lesson-7-agent-with-memory)"
      ]
    },
    {
      "cell_type": "markdown",
      "id": "8c451ffd-a18b-4412-85fa-85186824dd03",
      "metadata": {
        "id": "8c451ffd-a18b-4412-85fa-85186824dd03"
      },
      "source": [
        "# Agent memory\n",
        "\n",
        "## Review\n",
        "\n",
        "Previously, we built an agent that can:\n",
        "\n",
        "* `act` - let the model call specific tools\n",
        "* `observe` - pass the tool output back to the model\n",
        "* `reason` - let the model reason about the tool output to decide what to do next (e.g., call another tool or just respond directly)\n",
        "\n",
        "![Screenshot 2024-08-21 at 12.45.32 PM.png](https://cdn.prod.website-files.com/65b8cd72835ceeacd4449a53/66dbab7453080e6802cd1703_agent-memory1.png)\n",
        "\n",
        "## Goals\n",
        "\n",
        "Now, we're going extend our agent by introducing memory."
      ]
    },
    {
      "cell_type": "code",
      "execution_count": 6,
      "id": "d2b4b45b-cbaa-41b1-b3ed-f6b0645be3f9",
      "metadata": {
        "id": "d2b4b45b-cbaa-41b1-b3ed-f6b0645be3f9"
      },
      "outputs": [],
      "source": [
        "%%capture --no-stderr\n",
        "%pip install --quiet -U langchain_google_genai langchain_core langgraph langchain_community tavily-python"
      ]
    },
    {
      "cell_type": "code",
      "source": [
        "from langchain_google_genai import ChatGoogleGenerativeAI\n",
        "\n",
        "from google.colab import userdata\n",
        "GEMINI_API_KEY = userdata.get('GEMINI_API_KEY')\n",
        "llm = ChatGoogleGenerativeAI(\n",
        "    model=\"gemini-1.5-flash\",\n",
        "    api_key=GEMINI_API_KEY,\n",
        "    temperature=0\n",
        ")\n",
        "result  = llm.invoke(\"Who won 2024 US presidential ellection?\")\n",
        "result\n"
      ],
      "metadata": {
        "id": "ldpx8cKs6leS",
        "outputId": "6c3ff76e-c3d9-447c-ad61-99f689306de0",
        "colab": {
          "base_uri": "https://localhost:8080/"
        }
      },
      "id": "ldpx8cKs6leS",
      "execution_count": 7,
      "outputs": [
        {
          "output_type": "execute_result",
          "data": {
            "text/plain": [
              "AIMessage(content='The 2024 US presidential election has not yet happened.  The election will be held in November 2024.\\n', additional_kwargs={}, response_metadata={'prompt_feedback': {'block_reason': 0, 'safety_ratings': []}, 'finish_reason': 'STOP', 'safety_ratings': []}, id='run-5dc648ab-2250-46c4-82a0-092ff3b158f7-0', usage_metadata={'input_tokens': 13, 'output_tokens': 29, 'total_tokens': 42, 'input_token_details': {'cache_read': 0}})"
            ]
          },
          "metadata": {},
          "execution_count": 7
        }
      ]
    },
    {
      "cell_type": "code",
      "source": [
        "import os\n",
        "from google.colab import userdata\n",
        "TAVILY_API_KEY = userdata.get('TAVILY_API_KEY')\n",
        "os.environ[\"TAVILY_API_KEY\"] = userdata.get('TAVILY_API_KEY')\n",
        "\n",
        "from langchain_community.tools.tavily_search import TavilySearchResults\n",
        "tavily_search = TavilySearchResults(max_results=3)\n",
        "search_docs = tavily_search.invoke(\"Who won 2024 US presidential ellection?\")\n",
        "search_docs"
      ],
      "metadata": {
        "id": "t5251Fh57ZRI",
        "outputId": "f4a866a6-db97-4c1a-bc74-de38ce472b89",
        "colab": {
          "base_uri": "https://localhost:8080/"
        }
      },
      "id": "t5251Fh57ZRI",
      "execution_count": 8,
      "outputs": [
        {
          "output_type": "execute_result",
          "data": {
            "text/plain": [
              "[{'url': 'https://www.bbc.com/news/election/2024/us/results',\n",
              "  'content': 'US Presidential Election Results 2024 - BBC News Close menu BBC News Kamala Harris of the Democrat party has 0 electoral college votes. Donald Trump of the Republican party has 0 electoral college votes. Kamala Harris of the Democrat party has 158,810 votes (38.4%) Donald Trump of the Republican party has 249,225 votes (60.2%) US presidential election results 2024 US election 2024 Voting in some states is particularly hard to predict, with polls showing they could be won by the Republicans or the Democratic party. The battleground states that could decide the 2024 presidential election are: Voters in 11 states will also elect a governor. US election polls: Who is ahead - Harris or Trump? US election 2024 About the BBC'},\n",
              " {'url': 'https://www.cnn.com/election/2024/results/president',\n",
              "  'content': \"Presidential election results 2024 | CNN Politics CNN10 About CNN Watch CNN CNN Harris is hoping to become the first woman elected president, while Trump is vying to become only the second former president to win a nonconsecutive second term after Grover Cleveland in 1892. Maine 4 Electoral Votes Harris 0Trump 0 Nebraska 5 Electoral Votes Harris 0Trump 0 What's so important to note here is that Harris' best path to 270 electoral votes in pre-election polls ran through Michigan, Pennsylvania and Wisconsin. Dems may need to hold their seats in Ohio and Montana -- two states Trump won twice before -- along with MI, WI, PA, AZ, NV and MD to keep the Senate at 50-50 and hope Harris wins to give them control of the chamber. CNN10 About CNN\"},\n",
              " {'url': 'https://en.wikipedia.org/wiki/2024_United_States_presidential_election',\n",
              "  'content': 'Meanwhile, states like Colorado, New Mexico and Virginia have moved noticeably towards the Democrats, and the party has become the dominant political force there.[29][30][31]\\nThe Democratic electoral coalition, securing the \"blue states\" for Democratic presidential candidates, performs best among Jewish and Black voters;[32][33] whites who are wealthy or postgraduates,[34] or live in urban areas.[35] Working class voters were also a mainstay of the Democratic coalition since the days of the New Deal, but since the 1970s, many have defected to Republicans as the Democratic Party moved significantly to the left on cultural issues.[36] Conversely, the traditional Republican coalition that dominates many \"red states\" is mainly composed of rural white voters, evangelicals, the elderly, and non-college educated voters.[37]\\nRepublicans have also historically performed well with suburban, middle class voters since the 1950s, but this bloc has drifted away from them in recent years due to the rise of the Tea Party movement and later the Make America Great Again movement.[38] Biden\\'s support for Israel has greatly damaged Muslim support for Democrats in polling.[80] Polling has indicated a significant divide between elite opinion of the Israel–Hamas war, which has overwhelmingly taken the side of Israel, and the general public.[81] A plurality of Americans oppose American military aid to Israel and believe that the United States \"should be a neutral mediator\" in the Israel-Palestinian conflict rather than taking a side.[81] Among voters 18-34, 66 percent disapprove of Israel’s conduct during the war and 20 percent approve, while a majority take the side of Palestinians predominately in the conflict.[82]\\nHealthcare issues\\nThe issue of healthcare and drug policy, including whether the United States should shift to a universal healthcare system,[83] and the COVID-19 pandemic is expected to play a key role in the 2024 presidential election.[84]\\n If Trump is elected, he would become the second president to win a second non-consecutive term, joining Grover Cleveland who did so in 1892.[15]\\nElection interference\\nDonald Trump did not concede to Joe Biden in the 2020 presidential election, citing unsubstantiated claims of voter fraud, and has continued denying the election results as of 2023[update].[16][17] Election security experts have warned that officials who deny the legitimacy of the 2020 presidential election may attempt to impede the voting process or refuse to certify the 2024 election results.[18]\\nPolling before the election has indicated profound dissatisfaction with the state of American democracy.[19][20][21] Liberals tend to believe that conservatives are threatening the country with autocratic tendencies and their attempts to overturn the 2020 election.[22] Many Republicans are concerned with attempts to prevent former President Trump from holding public office by any means necessary, including impeachment and indictment.[23]\\nElectoral map\\n Supporters of the laws claim that conversations about racial identity are not appropriate for a school environment.[66][67][10] Critics of the laws against critical race theory claim they whitewash American history and act as memory laws to rewrite public memory of U.S. history.[68]\\nForeign policy\\nThe Israel–Hamas war and Russian invasion of Ukraine are expected to be significant issues of the campaign.[69]\\nThe United States has provided significant military and humanitarian aid to Ukraine throughout the Russian invasion of Ukraine.[70][71][72] Democratic politicians and a significant number of Republican politicians have supported this plan, arguing that the United States has a significant role to play in \"protecting democracy and fighting Russian aggression. This will be the first U.S. presidential election to occur after the reapportionment of votes in the United States Electoral College following the 2020 United States census.[24][25] If the results of the 2020 election were to stay the same (which has never occurred in the history of presidential elections) in 2024, Democrats would have 303 electoral votes against the Republicans\\' 235, a slight change from Biden\\'s 306 electoral votes and Trump\\'s 232, meaning that Democrats lost a net of 3 electoral votes to the reapportionment process.'}]"
            ]
          },
          "metadata": {},
          "execution_count": 8
        }
      ]
    },
    {
      "cell_type": "code",
      "execution_count": 9,
      "id": "2b0cfa99",
      "metadata": {
        "id": "2b0cfa99"
      },
      "outputs": [],
      "source": [
        "from google.colab import userdata\n",
        "GEMINI_API_KEY = userdata.get('GEMINI_API_KEY')"
      ]
    },
    {
      "cell_type": "markdown",
      "id": "02eff247-a2aa-4f7a-8be1-73dfebfecc63",
      "metadata": {
        "id": "02eff247-a2aa-4f7a-8be1-73dfebfecc63"
      },
      "source": [
        "We'll use [LangSmith](https://docs.smith.langchain.com/) for [tracing](https://docs.smith.langchain.com/concepts/tracing)."
      ]
    },
    {
      "cell_type": "code",
      "execution_count": 10,
      "id": "74ef2ff0",
      "metadata": {
        "id": "74ef2ff0"
      },
      "outputs": [],
      "source": [
        "from google.colab import userdata\n",
        "LANGCHAIN_API_KEY = userdata.get('lang-graph')"
      ]
    },
    {
      "cell_type": "markdown",
      "id": "9c5f123b-db5d-4816-a6a3-2e4247611512",
      "metadata": {
        "id": "9c5f123b-db5d-4816-a6a3-2e4247611512"
      },
      "source": [
        "This follows what we did previously."
      ]
    },
    {
      "cell_type": "code",
      "source": [
        "tool = TavilySearchResults(max_results=2)\n",
        "tools = [tool]\n",
        "llm = ChatGoogleGenerativeAI(model=\"gemini-1.5-flash\", api_key = GEMINI_API_KEY)\n",
        "llm_with_tools = llm.bind_tools(tools)\n",
        "#tool.invoke(\"Guide me what type of dress should I wear in office party?\")\n"
      ],
      "metadata": {
        "id": "XMDQrMUO9gDN"
      },
      "id": "XMDQrMUO9gDN",
      "execution_count": 24,
      "outputs": []
    },
    {
      "cell_type": "code",
      "execution_count": 47,
      "id": "a9092b40-20c4-4872-b0ed-be1b53a15ef3",
      "metadata": {
        "id": "a9092b40-20c4-4872-b0ed-be1b53a15ef3"
      },
      "outputs": [],
      "source": [
        "from langgraph.graph import MessagesState\n",
        "from langchain_core.messages import AIMessage, HumanMessage, SystemMessage\n",
        "\n",
        "# System message\n",
        "sys_msg = SystemMessage(content=\"You are a helpful assistant tasked to help people to choose their out fit according to the event.Ask the user about his or her age gender and region for best recommendation.\")\n",
        "\n",
        "# Node\n",
        "def assistant(state: MessagesState) -> MessagesState:\n",
        "   return {\"messages\": [llm_with_tools.invoke([sys_msg] + state[\"messages\"])]}"
      ]
    },
    {
      "cell_type": "code",
      "execution_count": 49,
      "id": "771123a3-91ac-4076-92c0-93bcd69cf048",
      "metadata": {
        "colab": {
          "base_uri": "https://localhost:8080/",
          "height": 266
        },
        "id": "771123a3-91ac-4076-92c0-93bcd69cf048",
        "outputId": "a6177285-9afa-4bca-e1c6-731da129a9c9"
      },
      "outputs": [
        {
          "output_type": "display_data",
          "data": {
            "image/png": "[encoded data removed]",
            "text/plain": [
              "<IPython.core.display.Image object>"
            ]
          },
          "metadata": {}
        }
      ],
      "source": [
        "from langgraph.graph import START, StateGraph\n",
        "from langgraph.prebuilt import tools_condition, ToolNode\n",
        "from IPython.display import Image, display\n",
        "from langgraph.graph.state import CompiledStateGraph\n",
        "\n",
        "# Graph\n",
        "builder: StateGraph = StateGraph(MessagesState)\n",
        "\n",
        "# Define nodes: these do the work\n",
        "builder.add_node(\"assistant\", assistant)\n",
        "builder.add_node(\"tools\", ToolNode(tools))\n",
        "\n",
        "# Define edges: these determine how the control flow moves\n",
        "builder.add_edge(START, \"assistant\")\n",
        "builder.add_conditional_edges(\n",
        "    \"assistant\",\n",
        "    # If the latest message (result) from assistant is a tool call -> tools_condition routes to tools\n",
        "    # If the latest message (result) from assistant is a not a tool call -> tools_condition routes to END\n",
        "    tools_condition,\n",
        ")\n",
        "builder.add_edge(\"tools\", \"assistant\")\n",
        "react_graph: CompiledStateGraph = builder.compile()\n",
        "\n",
        "# Show\n",
        "display(Image(react_graph.get_graph(xray=True).draw_mermaid_png()))"
      ]
    },
    {
      "cell_type": "code",
      "execution_count": 50,
      "id": "637fcd79-3896-42e4-9131-e03b123a0a90",
      "metadata": {
        "id": "637fcd79-3896-42e4-9131-e03b123a0a90"
      },
      "outputs": [],
      "source": [
        "from langgraph.checkpoint.memory import MemorySaver\n",
        "memory: MemorySaver = MemorySaver()\n",
        "react_graph_memory: CompiledStateGraph = builder.compile(checkpointer=memory)"
      ]
    },
    {
      "cell_type": "code",
      "source": [
        "# Specify a thread\n",
        "config1 = {\"configurable\": {\"thread_id\": \"1\"}}\n"
      ],
      "metadata": {
        "id": "ajK8ORW_s1f7"
      },
      "id": "ajK8ORW_s1f7",
      "execution_count": 51,
      "outputs": []
    },
    {
      "cell_type": "code",
      "execution_count": 52,
      "id": "f722a1d6-e73c-4023-86ed-8b07d392278d",
      "metadata": {
        "colab": {
          "base_uri": "https://localhost:8080/"
        },
        "id": "f722a1d6-e73c-4023-86ed-8b07d392278d",
        "outputId": "843361c8-c0bd-4e95-9a4b-1aba308fd6fd"
      },
      "outputs": [
        {
          "output_type": "stream",
          "name": "stdout",
          "text": [
            "================================\u001b[1m Human Message \u001b[0m=================================\n",
            "\n",
            "My region is USA\n",
            "==================================\u001b[1m Ai Message \u001b[0m==================================\n",
            "\n",
            "Great!  And what is your age range and gender?  This will help me give you more relevant outfit recommendations.\n"
          ]
        }
      ],
      "source": [
        "\n",
        "\n",
        "# Specify an input\n",
        "messages = [HumanMessage(content=\"What dress should I wear in office party?\")]\n",
        "messages = [HumanMessage(content=\"My age is 38\")]\n",
        "messages = [HumanMessage(content=\"My gender is male\")]\n",
        "messages = [HumanMessage(content=\"My region is USA\")]\n",
        "\n",
        "# Run\n",
        "messages = react_graph_memory.invoke({\"messages\": messages},config1)\n",
        "for m in messages['messages']:\n",
        "    m.pretty_print()"
      ]
    },
    {
      "cell_type": "markdown",
      "id": "c91a8a16-6bf1-48e2-a889-ae04a37c7a2b",
      "metadata": {
        "id": "c91a8a16-6bf1-48e2-a889-ae04a37c7a2b"
      },
      "source": [
        "If we pass the same `thread_id`, then we can proceed from the previously logged state checkpoint!\n",
        "\n",
        "In this case, the above conversation is captured in the thread.\n",
        "\n",
        "The `HumanMessage` we pass (`\"Multiply that by 2.\"`) is appended to the above conversation.\n",
        "\n",
        "So, the model now know that `that` refers to the `The sum of 3 and 4 is 7.`."
      ]
    },
    {
      "cell_type": "markdown",
      "id": "c4b7774e-566f-4c92-9429-ed953bcacaa5",
      "metadata": {
        "id": "c4b7774e-566f-4c92-9429-ed953bcacaa5"
      },
      "source": [
        "## LangGraph Studio\n",
        "\n",
        "--\n",
        "\n",
        "**⚠️ DISCLAIMER**\n",
        "\n",
        "*Running Studio currently requires a Mac. If you are not using a Mac, then skip this step.*\n",
        "\n",
        "--\n",
        "\n",
        "Load the `agent` in the UI, which uses `module-1/studio/agent.py` set in `module-1/studio/langgraph.json`."
      ]
    },
    {
      "cell_type": "code",
      "execution_count": null,
      "id": "6d72986c-ff6f-4f81-b585-d268e2710e53",
      "metadata": {
        "id": "6d72986c-ff6f-4f81-b585-d268e2710e53"
      },
      "outputs": [],
      "source": []
    }
  ],
  "metadata": {
    "colab": {
      "provenance": [],
      "include_colab_link": true
    },
    "kernelspec": {
      "display_name": "Python 3 (ipykernel)",
      "language": "python",
      "name": "python3"
    },
    "language_info": {
      "codemirror_mode": {
        "name": "ipython",
        "version": 3
      },
      "file_extension": ".py",
      "mimetype": "text/x-python",
      "name": "python",
      "nbconvert_exporter": "python",
      "pygments_lexer": "ipython3",
      "version": "3.12.1"
    }
  },
  "nbformat": 4,
  "nbformat_minor": 5
}